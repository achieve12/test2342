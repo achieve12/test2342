{
 "cells": [
  {
   "cell_type": "markdown",
   "id": "bba8deed",
   "metadata": {},
   "source": [
    "1.In the below elements which of them are values or an expression?\n",
    "*\n",
    "'hello'\n",
    "-87.8\n",
    "-\n",
    "/\n",
    "    +\n",
    "6"
   ]
  },
  {
   "cell_type": "markdown",
   "id": "557074d1",
   "metadata": {},
   "source": [
    "Answer:\n",
    "        * is an expression.\n",
    "        'hello' is an values.\n",
    "        -87.8 is an values.\n",
    "        - is an expression.\n",
    "        / is an expression.\n",
    "        + is an expression.\n",
    "        6 is an values."
   ]
  },
  {
   "cell_type": "markdown",
   "id": "d2733688",
   "metadata": {},
   "source": [
    "2.What is difference between string and variable?"
   ]
  },
  {
   "cell_type": "markdown",
   "id": "c320a548",
   "metadata": {},
   "source": [
    "Answer:\n",
    "       VARIABLE:-A variable is something that holds a value that may change. In simplest terms, a variable is just a box that you can put stuff in. You can use variables to store all kinds of stuff, but for now, we are just going to look at storing numbers in variables.\n",
    "       STRING:-A string is simply a list of characters in order. A character is anything you can type on the keyboard in one keystroke, like a letter, a number, or a backslash. For example, \"hello\" is a string. It is five characters long — h, e, l, l, o.There are three ways you can declare a string in Python: single quotes ('), double quotes (\"), and triple quotes (\"\"\").\n",
    "       "
   ]
  },
  {
   "cell_type": "code",
   "execution_count": 5,
   "id": "3438e353",
   "metadata": {},
   "outputs": [
    {
     "name": "stdout",
     "output_type": "stream",
     "text": [
      "4 10\n",
      "4 5 10\n"
     ]
    }
   ],
   "source": [
    "#example for variable:\n",
    "red = 4\n",
    "blue = 10\n",
    "print(red,blue)\n",
    "\n",
    "yellow = red\n",
    "blue =10\n",
    "red=5\n",
    "print(yellow,red,blue)"
   ]
  },
  {
   "cell_type": "code",
   "execution_count": 8,
   "id": "4bc87f3b",
   "metadata": {},
   "outputs": [
    {
     "name": "stdout",
     "output_type": "stream",
     "text": [
      "I am single quoted string\n",
      " I am double quoted string \n",
      "I am a triple quoted string\n"
     ]
    }
   ],
   "source": [
    "#example of sting:\n",
    "print('I am single quoted string')\n",
    "print(\" I am double quoted string \")\n",
    "print(\"\"\"I am a triple quoted string\"\"\")"
   ]
  },
  {
   "cell_type": "markdown",
   "id": "354ff769",
   "metadata": {},
   "source": [
    "3.Describe three different data types?\n",
    "Answer:Tuples is a collection of data,sits between (),They are Immutable.\n",
    "       eg:(1,2,3,4,5)\n",
    "       Lists is a collection of data, sits between [],They are Mutable.\n",
    "       eg:[1,2,3,4,5]\n",
    "       Dictionary is a collection of data, sits between {},They are Mutable.\n",
    "       eg:{\"a\":1,\"b\":2,\"c\":3}\n"
   ]
  },
  {
   "cell_type": "markdown",
   "id": "4bd51750",
   "metadata": {},
   "source": [
    "4.What is an expression made up of? What do all expressions do?\n",
    "Answer:Expression is made up of values, containers, and mathematical operators (operands) e.g \n",
    "        a = 2 + 3  and expressions are used to evaluate the values or represent the result on the screen."
   ]
  },
  {
   "cell_type": "markdown",
   "id": "f9e8fbde",
   "metadata": {},
   "source": [
    "5.This assignment statments,like spam=10.what is differnce between an expression and a statement?\n",
    "    Answer: Expression is made up of values, containers, and mathematical operators (operands) and the statement is just like a command that a python interpreter executes like print."
   ]
  },
  {
   "cell_type": "markdown",
   "id": "5c7e8716",
   "metadata": {},
   "source": [
    "6.After running the following code, what does the variable bacon contain?\n",
    "bacon = 22\n",
    "bacon + 1\n",
    "Answer:"
   ]
  },
  {
   "cell_type": "code",
   "execution_count": 1,
   "id": "e6066dad",
   "metadata": {},
   "outputs": [
    {
     "data": {
      "text/plain": [
       "23"
      ]
     },
     "execution_count": 1,
     "metadata": {},
     "output_type": "execute_result"
    }
   ],
   "source": [
    "bacon = 22\n",
    "bacon +1"
   ]
  },
  {
   "cell_type": "markdown",
   "id": "f1b9cdec",
   "metadata": {},
   "source": [
    "7.What should the value of the following terms be ?\n",
    "'spam' + 'spamspam'\n",
    "spam*3\n",
    "Answer:"
   ]
  },
  {
   "cell_type": "code",
   "execution_count": 2,
   "id": "edfd3baa",
   "metadata": {},
   "outputs": [
    {
     "data": {
      "text/plain": [
       "'spamspamspam'"
      ]
     },
     "execution_count": 2,
     "metadata": {},
     "output_type": "execute_result"
    }
   ],
   "source": [
    "'spam' + 'spamspam'"
   ]
  },
  {
   "cell_type": "code",
   "execution_count": 4,
   "id": "d0b1840f",
   "metadata": {},
   "outputs": [
    {
     "data": {
      "text/plain": [
       "'spamspamspam'"
      ]
     },
     "execution_count": 4,
     "metadata": {},
     "output_type": "execute_result"
    }
   ],
   "source": [
    "'spam'*3"
   ]
  },
  {
   "cell_type": "markdown",
   "id": "fe1938bf",
   "metadata": {},
   "source": [
    "8.Why is eggs a valid variable name while 100 is invalid?\n",
    "Answer:We can't start giving variable an integer name. if we, we should begin with, a string-like alphabet name then integer. e100 or eggs100 is valid"
   ]
  },
  {
   "cell_type": "markdown",
   "id": "47603911",
   "metadata": {},
   "source": [
    "9.What three functions can be used to get the integer, floating-point number, or string version of a value?\n",
    "Answer:str(),int(),float()."
   ]
  },
  {
   "cell_type": "markdown",
   "id": "732be5b9",
   "metadata": {},
   "source": [
    "10.Why does this expression cause an error? How can you fix it?\n",
    "\n",
    "'I have eaten' + 99 + 'burritos\n",
    "Answer:Because 99 is an integer it cannnot be concatened with strings,if we have to concatenated with strings,if we have to concatente if we need to do typecasting."
   ]
  }
 ],
 "metadata": {
  "kernelspec": {
   "display_name": "Python 3 (ipykernel)",
   "language": "python",
   "name": "python3"
  },
  "language_info": {
   "codemirror_mode": {
    "name": "ipython",
    "version": 3
   },
   "file_extension": ".py",
   "mimetype": "text/x-python",
   "name": "python",
   "nbconvert_exporter": "python",
   "pygments_lexer": "ipython3",
   "version": "3.9.7"
  }
 },
 "nbformat": 4,
 "nbformat_minor": 5
}
